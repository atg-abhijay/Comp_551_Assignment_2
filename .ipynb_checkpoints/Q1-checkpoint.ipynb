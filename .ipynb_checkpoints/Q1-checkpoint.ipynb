{
 "cells": [
  {
   "cell_type": "code",
   "execution_count": 47,
   "metadata": {},
   "outputs": [],
   "source": [
    "import pandas as pd\n",
    "import numpy as np\n",
    "from IPython.display import Image\n",
    "import scipy.spatial.distance as spd\n",
    "from mlflow import log_metric, log_param, start_run, end_run"
   ]
  },
  {
   "cell_type": "code",
   "execution_count": 2,
   "metadata": {},
   "outputs": [],
   "source": [
    "######## PART 1 ########"
   ]
  },
  {
   "cell_type": "code",
   "execution_count": 3,
   "metadata": {},
   "outputs": [],
   "source": [
    "\"\"\"\n",
    "extracting the mean vectors and the covariance matrix.\n",
    "have to reshape the mean vectors (dimensions - (1, 20)) \n",
    "since np.random.multivariate_normal() requires that the\n",
    "mean vector be one-dimensional.\n",
    "\"\"\"\n",
    "neg_class_mean_vector = np.array(pd.read_csv('./hwk2_datasets/DS1_m_0.txt', header=None)).T.reshape(20)\n",
    "pos_class_mean_vector = np.array(pd.read_csv('./hwk2_datasets/DS1_m_1.txt', header=None)).T.reshape(20)\n",
    "cov_matrix = np.array(pd.read_csv('./hwk2_datasets/DS1_Cov.txt', header=None))"
   ]
  },
  {
   "cell_type": "code",
   "execution_count": 4,
   "metadata": {},
   "outputs": [],
   "source": [
    "\"\"\"\n",
    "generating the two classes (20 features each),\n",
    "using the mean vectors and covariance matrix,\n",
    "each containing 2000 examples\n",
    "\"\"\"\n",
    "pos_features_df = pd.DataFrame(data=np.random.multivariate_normal(pos_class_mean_vector, cov_matrix, size=2000))\n",
    "neg_features_df = pd.DataFrame(data=np.random.multivariate_normal(neg_class_mean_vector, cov_matrix, size=2000))"
   ]
  },
  {
   "cell_type": "code",
   "execution_count": 5,
   "metadata": {},
   "outputs": [],
   "source": [
    "\"\"\"\n",
    "generating the class labels for the 2 classes\n",
    "which will be added to the DataFrame made above\n",
    "\"\"\"\n",
    "pos_class_column = pd.Series([1 for x in range(2000)])\n",
    "neg_class_column = pd.Series([0 for x in range(2000)])"
   ]
  },
  {
   "cell_type": "code",
   "execution_count": 6,
   "metadata": {},
   "outputs": [],
   "source": [
    "\"\"\"\n",
    "adding the columns with class labels to\n",
    "the respective DataFrames for the 2 classes\n",
    "\"\"\"\n",
    "pos_class_df = pd.concat([pos_features_df, pos_class_column], axis=1, ignore_index=True)\n",
    "neg_class_df = pd.concat([neg_features_df, neg_class_column], axis=1, ignore_index=True)"
   ]
  },
  {
   "cell_type": "code",
   "execution_count": 7,
   "metadata": {},
   "outputs": [],
   "source": [
    "\"\"\"\n",
    "extracting a 20% sample for the test set\n",
    "from both the positive and negative classes\n",
    "\"\"\"\n",
    "test_df_pos_class = pos_class_df.sample(frac=0.2)\n",
    "test_df_neg_class = neg_class_df.sample(frac=0.2)\n",
    "test_df = pd.concat([test_df_pos_class, test_df_neg_class], ignore_index=True)\n",
    "test_x = test_df.drop([20], axis=1)\n",
    "test_y = test_df[20]"
   ]
  },
  {
   "cell_type": "code",
   "execution_count": 8,
   "metadata": {},
   "outputs": [],
   "source": [
    "\"\"\"\n",
    "for the valid set, getting those records \n",
    "from the total which are not present in \n",
    "the test set and getting a 25% sample from\n",
    "that. a 25% sample from the (total-test set)\n",
    "is equivalent to 20% of the total.\n",
    "\"\"\"\n",
    "valid_df_pos_class = pos_class_df.loc[~pos_class_df.index.isin(test_df_pos_class.index)].sample(frac=0.25)\n",
    "valid_df_neg_class = neg_class_df.loc[~neg_class_df.index.isin(test_df_neg_class.index)].sample(frac=0.25)\n",
    "valid_df = pd.concat([valid_df_pos_class, valid_df_neg_class], ignore_index=True)\n",
    "valid_x = valid_df.drop([20], axis=1)\n",
    "valid_y = valid_df[20]"
   ]
  },
  {
   "cell_type": "code",
   "execution_count": 9,
   "metadata": {},
   "outputs": [],
   "source": [
    "\"\"\"\n",
    "getting all records for both positive and\n",
    "negative classes which are not a part of \n",
    "either the test set or valid set. combining\n",
    "the resultant positive, negative class records\n",
    "to obtain the training set.\n",
    "\"\"\"\n",
    "not_train_df_pos_class = pd.concat([test_df_pos_class, valid_df_pos_class])\n",
    "train_df_pos_class = pos_class_df.loc[~pos_class_df.index.isin(not_train_df_pos_class.index)]\n",
    "\n",
    "not_train_df_neg_class = pd.concat([test_df_neg_class, valid_df_neg_class])\n",
    "train_df_neg_class = neg_class_df.loc[~neg_class_df.index.isin(not_train_df_neg_class.index)]\n",
    "\n",
    "train_df = pd.concat([train_df_pos_class, train_df_neg_class], ignore_index=True)\n",
    "train_x = train_df.drop([20], axis=1)\n",
    "train_y = train_df[20]"
   ]
  },
  {
   "cell_type": "code",
   "execution_count": 10,
   "metadata": {},
   "outputs": [],
   "source": [
    "\"\"\"\n",
    "function to verify/check\n",
    "the shapes of the DataFrames\n",
    "\"\"\"\n",
    "def check_shape(df, name):\n",
    "    print(name, \":\")\n",
    "    print(\"Positive class:\", df.loc[df[20] == 1].shape)\n",
    "    print(\"Negative class:\", df.loc[df[20] == 0].shape)\n",
    "    print()"
   ]
  },
  {
   "cell_type": "code",
   "execution_count": 11,
   "metadata": {},
   "outputs": [
    {
     "name": "stdout",
     "output_type": "stream",
     "text": [
      "Test :\n",
      "Positive class: (400, 21)\n",
      "Negative class: (400, 21)\n",
      "\n",
      "Valid :\n",
      "Positive class: (400, 21)\n",
      "Negative class: (400, 21)\n",
      "\n",
      "Train :\n",
      "Positive class: (1200, 21)\n",
      "Negative class: (1200, 21)\n",
      "\n"
     ]
    }
   ],
   "source": [
    "check_shape(test_df, \"Test\")\n",
    "check_shape(valid_df, \"Valid\")\n",
    "check_shape(train_df, \"Train\")"
   ]
  },
  {
   "cell_type": "code",
   "execution_count": 12,
   "metadata": {},
   "outputs": [],
   "source": [
    "\"\"\"\n",
    "generating csv files for the \n",
    "3 data sets for submission\n",
    "\"\"\"\n",
    "train_df.to_csv(\"DS1_train.csv\")\n",
    "valid_df.to_csv(\"DS1_valid.csv\")\n",
    "test_df.to_csv(\"DS1_test.csv\")"
   ]
  },
  {
   "cell_type": "code",
   "execution_count": null,
   "metadata": {},
   "outputs": [],
   "source": []
  },
  {
   "cell_type": "code",
   "execution_count": null,
   "metadata": {},
   "outputs": [],
   "source": []
  },
  {
   "cell_type": "code",
   "execution_count": null,
   "metadata": {},
   "outputs": [],
   "source": [
    "######## PART 2 ########"
   ]
  },
  {
   "cell_type": "code",
   "execution_count": null,
   "metadata": {},
   "outputs": [],
   "source": [
    "\"\"\"\n",
    "Parameters for the GDA model\n",
    "\"\"\"\n",
    "Image(filename='./pics/gda_params.png')"
   ]
  },
  {
   "cell_type": "code",
   "execution_count": null,
   "metadata": {},
   "outputs": [],
   "source": [
    "\"\"\"\n",
    "Estimating pi\n",
    "\"\"\"\n",
    "Image(filename='./pics/gda_pi.png')"
   ]
  },
  {
   "cell_type": "code",
   "execution_count": null,
   "metadata": {},
   "outputs": [],
   "source": [
    "num_pos_class = train_df_pos_class.shape[0]\n",
    "num_neg_class = train_df_neg_class.shape[0]\n",
    "pi = num_pos_class/(num_pos_class+num_neg_class)"
   ]
  },
  {
   "cell_type": "code",
   "execution_count": null,
   "metadata": {},
   "outputs": [],
   "source": [
    "\"\"\"\n",
    "Estimating mu_one\n",
    "\"\"\"\n",
    "Image(filename='./pics/gda_mu_one.png')"
   ]
  },
  {
   "cell_type": "code",
   "execution_count": null,
   "metadata": {},
   "outputs": [],
   "source": [
    "\"\"\"\n",
    "since we already have the positive class\n",
    "separately we don't need to go over the\n",
    "combined positive and negative classes\n",
    "\"\"\"\n",
    "m1_data = (train_df_pos_class.drop([20], axis=1).sum(axis=0))/num_pos_class\n",
    "mu_one = pd.DataFrame(data=m1_data)"
   ]
  },
  {
   "cell_type": "code",
   "execution_count": null,
   "metadata": {},
   "outputs": [],
   "source": [
    "\"\"\"\n",
    "Estimating mu_two\n",
    "\"\"\"\n",
    "Image(filename='./pics/gda_mu_two.png')"
   ]
  },
  {
   "cell_type": "code",
   "execution_count": null,
   "metadata": {},
   "outputs": [],
   "source": [
    "\"\"\"\n",
    "once again, since we already have the negative class\n",
    "separately we don't need to go over the\n",
    "combined positive and negative classes\n",
    "\"\"\"\n",
    "m2_data = (train_df_neg_class.drop([20], axis=1).sum(axis=0))/num_neg_class\n",
    "mu_two = pd.DataFrame(data=m2_data)"
   ]
  },
  {
   "cell_type": "code",
   "execution_count": null,
   "metadata": {
    "scrolled": true
   },
   "outputs": [],
   "source": [
    "\"\"\"\n",
    "Estimating sigma\n",
    "\"\"\"\n",
    "Image(filename='./pics/gda_sigma.png')"
   ]
  },
  {
   "cell_type": "code",
   "execution_count": null,
   "metadata": {},
   "outputs": [],
   "source": [
    "\"\"\"\n",
    "provide the dataframe, mu vector\n",
    "and number of entries to generate\n",
    "the S(variance) matrix shown above in the picture\n",
    "\"\"\"\n",
    "def generate_variance_matrix(df, mu, num_entries):\n",
    "    variance_df = pd.DataFrame(data=[[0 for i in range(20)] for j in range(20)])\n",
    "    for idx, row in df.drop([20], axis=1).iterrows():\n",
    "        row = pd.DataFrame(data=row)\n",
    "        row.columns = [0]\n",
    "        diff = row.subtract(mu)\n",
    "        single_example_entry = diff.dot(diff.T)\n",
    "        variance_df += single_example_entry\n",
    "    \n",
    "    variance_df = variance_df.divide(num_entries)\n",
    "    return variance_df"
   ]
  },
  {
   "cell_type": "code",
   "execution_count": null,
   "metadata": {},
   "outputs": [],
   "source": [
    "s1_df = generate_variance_matrix(train_df_pos_class, mu_one, num_pos_class)\n",
    "s2_df = generate_variance_matrix(train_df_neg_class, mu_two, num_neg_class)"
   ]
  },
  {
   "cell_type": "code",
   "execution_count": null,
   "metadata": {},
   "outputs": [],
   "source": [
    "num_total_class = num_pos_class + num_neg_class\n",
    "sigma = s1_df.multiply(num_pos_class/num_total_class) + s2_df.multiply(num_neg_class/num_total_class)"
   ]
  },
  {
   "cell_type": "code",
   "execution_count": null,
   "metadata": {},
   "outputs": [],
   "source": [
    "\"\"\"\n",
    "GDA model\n",
    "\"\"\"\n",
    "Image(filename='./pics/gda_model.png')"
   ]
  },
  {
   "cell_type": "code",
   "execution_count": null,
   "metadata": {},
   "outputs": [],
   "source": [
    "\"\"\"\n",
    "Finding w\n",
    "\"\"\"\n",
    "sigma_inv = pd.DataFrame(data=np.linalg.inv(sigma))\n",
    "w = sigma_inv.dot(mu_one-mu_two)\n",
    "w"
   ]
  },
  {
   "cell_type": "code",
   "execution_count": null,
   "metadata": {},
   "outputs": [],
   "source": [
    "\"\"\"\n",
    "Finding w0\n",
    "\"\"\"\n",
    "w0_part1 = mu_one.T.dot(sigma_inv).dot(mu_one).divide(-0.5)\n",
    "w0_part2 = mu_two.T.dot(sigma_inv).dot(mu_two).divide(0.5)\n",
    "w0_part3 = np.log(pi/(1-pi))\n",
    "w0 = w0_part1 + w0_part2 + w0_part3"
   ]
  },
  {
   "cell_type": "code",
   "execution_count": null,
   "metadata": {},
   "outputs": [],
   "source": [
    "w0"
   ]
  },
  {
   "cell_type": "code",
   "execution_count": null,
   "metadata": {},
   "outputs": [],
   "source": [
    "\"\"\"\n",
    "Applying the logistic sigmoid function.\n",
    "'a' = wT . x + w0 (from the picture above)\n",
    "\"\"\"\n",
    "Image(filename='./pics/logistic_sigmoid.png')"
   ]
  },
  {
   "cell_type": "code",
   "execution_count": null,
   "metadata": {},
   "outputs": [],
   "source": [
    "\"\"\"\n",
    "Apply the logistic sigmoid function to the\n",
    "input to get the prediction for the class.\n",
    "\"\"\"\n",
    "def get_class1_prob(w, w0, x):\n",
    "    product = w.T.dot(x)\n",
    "    print(\"Product:\", product)\n",
    "    product.columns = [0]\n",
    "    sigmoid_input = product + w0\n",
    "    print(\"Sigmoid input\", sigmoid_input)\n",
    "    denominator = 1 + np.e**(sigmoid_input*(-1))\n",
    "    print(\"Denominator\", denominator)\n",
    "    return 1/denominator"
   ]
  },
  {
   "cell_type": "code",
   "execution_count": null,
   "metadata": {},
   "outputs": [],
   "source": [
    "x = train_df[1:2].drop([20], axis=1)\n",
    "print(x.shape)\n",
    "output = get_class1_prob(w, w0, x.T)\n",
    "print(output[0][0])"
   ]
  },
  {
   "cell_type": "code",
   "execution_count": null,
   "metadata": {},
   "outputs": [],
   "source": [
    "def find_accuracy(df):\n",
    "    num_correct_classif = 0\n",
    "    i = 0\n",
    "    for idx, row in df.iterrows():\n",
    "        if i == 0:\n",
    "            row = pd.DataFrame(data=row)\n",
    "            row_x = row[:-1]\n",
    "            row_y = row[-1:]\n",
    "            row_y = row_y[idx][20]\n",
    "            output = get_class1_prob(w, w0, row_x)\n",
    "            output = output[0][0]\n",
    "            print(output)\n",
    "            if output < 0.5:\n",
    "                output = 0\n",
    "            else:\n",
    "                output = 1\n",
    "\n",
    "            if output == row_y:\n",
    "                num_correct_classif += 1\n",
    "        i += 1\n",
    "\n",
    "#     return num_correct_classif/df.shape[0]"
   ]
  },
  {
   "cell_type": "code",
   "execution_count": null,
   "metadata": {},
   "outputs": [],
   "source": [
    "accuracy = find_accuracy(train_df)"
   ]
  },
  {
   "cell_type": "code",
   "execution_count": null,
   "metadata": {},
   "outputs": [],
   "source": [
    "accuracy"
   ]
  },
  {
   "cell_type": "code",
   "execution_count": null,
   "metadata": {},
   "outputs": [],
   "source": [
    "precis = 0\n",
    "count = 1\n",
    "for idx, row in test_df.iterrows():\n",
    "    row = pd.DataFrame(data=row)\n",
    "    row_x = row[:-1]\n",
    "    row_y = row[-1:]\n",
    "    row_y = row_y[idx][20]\n",
    "    predic_class1 = get_class1_prob(w, w0, row_x)\n",
    "    predic_class1 = predic_class1[0][0]\n",
    "    if predic_class1 >= 0.5:\n",
    "        print(predic_class1)\n",
    "        predic_class1 = 1\n",
    "        count += 1\n",
    "#         print(row_y)\n",
    "        if predic_class1 == row_y:\n",
    "            precis += 1\n",
    "\n",
    "precis = precis/count"
   ]
  },
  {
   "cell_type": "code",
   "execution_count": null,
   "metadata": {},
   "outputs": [],
   "source": [
    "precis"
   ]
  },
  {
   "cell_type": "code",
   "execution_count": null,
   "metadata": {},
   "outputs": [],
   "source": [
    "count"
   ]
  },
  {
   "cell_type": "code",
   "execution_count": null,
   "metadata": {},
   "outputs": [],
   "source": [
    "ones"
   ]
  },
  {
   "cell_type": "code",
   "execution_count": null,
   "metadata": {},
   "outputs": [],
   "source": [
    "zeroes"
   ]
  },
  {
   "cell_type": "code",
   "execution_count": null,
   "metadata": {},
   "outputs": [],
   "source": []
  },
  {
   "cell_type": "code",
   "execution_count": null,
   "metadata": {},
   "outputs": [],
   "source": []
  },
  {
   "cell_type": "code",
   "execution_count": 13,
   "metadata": {},
   "outputs": [],
   "source": [
    "######## PART 3 ########\n",
    "start_run()"
   ]
  },
  {
   "cell_type": "code",
   "execution_count": 14,
   "metadata": {},
   "outputs": [
    {
     "data": {
      "image/png": "[encoded data removed]",
      "text/plain": [
       "<IPython.core.display.Image object>"
      ]
     },
     "execution_count": 14,
     "metadata": {},
     "output_type": "execute_result"
    }
   ],
   "source": [
    "\"\"\"\n",
    "Prediction in k-NN\n",
    "\"\"\"\n",
    "Image(filename='./pics/k-NN_classif.png')"
   ]
  },
  {
   "cell_type": "code",
   "execution_count": 15,
   "metadata": {},
   "outputs": [
    {
     "data": {
      "text/plain": [
       "(2400, 21)"
      ]
     },
     "execution_count": 15,
     "metadata": {},
     "output_type": "execute_result"
    }
   ],
   "source": [
    "train_df.shape"
   ]
  },
  {
   "cell_type": "code",
   "execution_count": 36,
   "metadata": {},
   "outputs": [],
   "source": [
    "def test_ex_find_nearest(test_example, train_x, num_nearest):\n",
    "    distances = []\n",
    "    log_param(\"distances\", type(distances))\n",
    "    for j in range(train_x.shape[0]):\n",
    "        train_example = train_x[j:j+1]\n",
    "        distances.append(spd.euclidean(test_example, train_example))\n",
    "        \n",
    "    distances_df = pd.DataFrame(data=distances)\n",
    "    sorted_dist = distances_df.sort_values(by=[0])\n",
    "#     log_param(\"sorted_dist\", type(sorted_dist))\n",
    "    return sorted_dist[:num_nearest]"
   ]
  },
  {
   "cell_type": "code",
   "execution_count": 37,
   "metadata": {},
   "outputs": [],
   "source": [
    "def find_avg_class(train_df, sorted_dist):\n",
    "    indices = list(sorted_dist.index)\n",
    "    log_param(\"indices\", type(indices))\n",
    "    log_param(\"indices_value\", indices)\n",
    "    avg_class = 0\n",
    "    log_param(\"avg_class_before\", type(avg_class))\n",
    "    for idx in indices:\n",
    "        avg_class += int(train_df[idx:idx+1][20])\n",
    "    \n",
    "    avg_class = avg_class/len(indices)\n",
    "    log_param(\"avg_class\", type(avg_class))   \n",
    "    if avg_class < 0.5:\n",
    "        avg_class = 0\n",
    "    else:\n",
    "        avg_class = 1\n",
    "     \n",
    "    return avg_class"
   ]
  },
  {
   "cell_type": "code",
   "execution_count": 38,
   "metadata": {},
   "outputs": [],
   "source": [
    "def predictions_for_test(test_x, num_nearest):\n",
    "    test_predictions = []\n",
    "    for i in range(test_x.shape[0]):\n",
    "        test_example = test_x[i:i+1]\n",
    "        nearest_neighbors = test_ex_find_nearest(test_example, train_x , num_nearest)\n",
    "        log_param(\"nearest_neighbors\", type(nearest_neighbors))\n",
    "        \n",
    "        neighbors_avg_class = find_avg_class(train_df, nearest_neighbors)\n",
    "        log_param(\"neighbors_avg_class\", type(neighbors_avg_class))\n",
    "        \n",
    "        test_predictions.append(neighbors_avg_class)\n",
    "    \n",
    "    log_param(\"test_predictions\", type(test_predictions))\n",
    "    return test_predictions"
   ]
  },
  {
   "cell_type": "code",
   "execution_count": 39,
   "metadata": {},
   "outputs": [],
   "source": [
    "test_predictions = predictions_for_test(test_x, 5)"
   ]
  },
  {
   "cell_type": "code",
   "execution_count": 50,
   "metadata": {},
   "outputs": [],
   "source": [
    "log_param(\"test_predictions\", test_predictions)\n",
    "end_run()"
   ]
  },
  {
   "cell_type": "code",
   "execution_count": 42,
   "metadata": {},
   "outputs": [
    {
     "name": "stdout",
     "output_type": "stream",
     "text": [
      "<class 'list'>\n"
     ]
    }
   ],
   "source": [
    "print(type(test_predictions))"
   ]
  },
  {
   "cell_type": "code",
   "execution_count": 43,
   "metadata": {},
   "outputs": [],
   "source": [
    "num_correct_classif = 0\n",
    "test_y_list = list(test_y)\n",
    "for prediction, target in zip(test_predictions, test_y_list):\n",
    "    if prediction == target:\n",
    "        num_correct_classif += 1"
   ]
  },
  {
   "cell_type": "code",
   "execution_count": 51,
   "metadata": {},
   "outputs": [
    {
     "data": {
      "text/plain": [
       "0.51625"
      ]
     },
     "execution_count": 51,
     "metadata": {},
     "output_type": "execute_result"
    }
   ],
   "source": [
    "num_correct_classif/len(test_y_list)"
   ]
  },
  {
   "cell_type": "code",
   "execution_count": 52,
   "metadata": {},
   "outputs": [],
   "source": [
    "log_metric(\"num_correct_classif\", num_correct_classif/len(test_y_list))"
   ]
  },
  {
   "cell_type": "code",
   "execution_count": null,
   "metadata": {},
   "outputs": [],
   "source": [
    "distances = spd.pdist(train_df, metric='euclidean')\n",
    "print(train_df.shape)\n",
    "distances_df = pd.DataFrame(data=distances, columns=[0])\n",
    "distances_df.axes\n",
    "sorted_df = distances_df.sort_values(by=[0])\n",
    "sorted_df[4:5]"
   ]
  },
  {
   "cell_type": "code",
   "execution_count": null,
   "metadata": {},
   "outputs": [],
   "source": [
    "def find_dist(test_input, train_input):\n",
    "    return np.linalg.norm(test_input, train_input)"
   ]
  },
  {
   "cell_type": "code",
   "execution_count": null,
   "metadata": {},
   "outputs": [],
   "source": [
    "list_num_neighbors = [1]\n",
    "for num_neigh in list_num_neighbors:\n",
    "    for test_idx, test_example in test_df.iterrows():\n",
    "        test_input = test_example[:-1]\n",
    "        test_output = test_example[20]\n",
    "        for train_idx, train_example in train_df.iterrows():\n",
    "            train_input = train_example[:-1]\n",
    "            train_output = train_example[20]\n",
    "            distance = find_dist(test_input, train_input)\n",
    "            print(distance.)"
   ]
  },
  {
   "cell_type": "code",
   "execution_count": null,
   "metadata": {},
   "outputs": [],
   "source": []
  }
 ],
 "metadata": {
  "kernelspec": {
   "display_name": "myenv",
   "language": "python",
   "name": "myenv"
  },
  "language_info": {
   "codemirror_mode": {
    "name": "ipython",
    "version": 3
   },
   "file_extension": ".py",
   "mimetype": "text/x-python",
   "name": "python",
   "nbconvert_exporter": "python",
   "pygments_lexer": "ipython3",
   "version": "3.5.2"
  }
 },
 "nbformat": 4,
 "nbformat_minor": 2
}
