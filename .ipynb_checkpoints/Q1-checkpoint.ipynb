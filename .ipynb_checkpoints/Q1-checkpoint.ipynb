{
 "cells": [
  {
   "cell_type": "code",
   "execution_count": 1,
   "metadata": {},
   "outputs": [],
   "source": [
    "import pandas as pd\n",
    "import numpy as np"
   ]
  },
  {
   "cell_type": "code",
   "execution_count": 2,
   "metadata": {},
   "outputs": [],
   "source": [
    "######## PART 1 ########"
   ]
  },
  {
   "cell_type": "code",
   "execution_count": 3,
   "metadata": {},
   "outputs": [],
   "source": [
    "\"\"\"\n",
    "extracting the mean vectors and the covariance matrix.\n",
    "have to reshape the mean vectors (dimensions - (1, 20)) \n",
    "since np.random.multivariate_normal() requires that the\n",
    "mean vector be one-dimensional.\n",
    "\"\"\"\n",
    "neg_class_mean_vector = np.array(pd.read_csv('./hwk2_datasets/DS1_m_0.txt', header=None)).T.reshape(20)\n",
    "pos_class_mean_vector = np.array(pd.read_csv('./hwk2_datasets/DS1_m_1.txt', header=None)).T.reshape(20)\n",
    "cov_matrix = np.array(pd.read_csv('./hwk2_datasets/DS1_Cov.txt', header=None))"
   ]
  },
  {
   "cell_type": "code",
   "execution_count": 10,
   "metadata": {},
   "outputs": [],
   "source": [
    "\"\"\"\n",
    "generating the two classes (20 features each)\n",
    "using the mean vectors and covariance matrix\n",
    "\"\"\"\n",
    "pos_features_df = pd.DataFrame(data=np.random.multivariate_normal(pos_class_mean_vector, cov_matrix, size=2000))\n",
    "neg_features_df = pd.DataFrame(data=np.random.multivariate_normal(neg_class_mean_vector, cov_matrix, size=2000))"
   ]
  },
  {
   "cell_type": "code",
   "execution_count": 13,
   "metadata": {},
   "outputs": [],
   "source": [
    "\"\"\"\n",
    "generating the class labels for the 2 classes\n",
    "which will be added to the DataFrame made above\n",
    "\"\"\"\n",
    "pos_class_column = pd.Series([1 for x in range(2000)])\n",
    "neg_class_column = pd.Series([0 for x in range(2000)])"
   ]
  },
  {
   "cell_type": "code",
   "execution_count": 14,
   "metadata": {},
   "outputs": [],
   "source": [
    "\"\"\"\n",
    "adding the columns with class labels to\n",
    "the respective DataFrames for the 2 classes\n",
    "\"\"\"\n",
    "pos_class_df = pd.concat([pos_features_df, pos_class_column], axis=1, ignore_index=True)\n",
    "neg_class_df = pd.concat([neg_features_df, neg_class_column], axis=1, ignore_index=True)"
   ]
  },
  {
   "cell_type": "code",
   "execution_count": 17,
   "metadata": {},
   "outputs": [],
   "source": [
    "\"\"\"\n",
    "extracting a 20% sample for the test set\n",
    "from both the positive and negative class\n",
    "\"\"\"\n",
    "test_df_pos_class = pos_class_df.sample(frac=0.2)\n",
    "test_df_neg_class = neg_class_df.sample(frac=0.2)\n",
    "test_df = pd.concat([test_df_pos_class, test_df_neg_class], ignore_index=True)"
   ]
  },
  {
   "cell_type": "code",
   "execution_count": 21,
   "metadata": {},
   "outputs": [],
   "source": [
    "\"\"\"\n",
    "for the valid set, getting those records \n",
    "from the total which are not present in \n",
    "the test set and getting a 25% sample from\n",
    "that. a 25% sample from the (total-test set)\n",
    "is equivalent to 20% of the total.\n",
    "\"\"\"\n",
    "valid_df_pos_class = pos_class_df.loc[~pos_class_df.index.isin(test_df_pos_class.index)].sample(frac=0.25)\n",
    "valid_df_neg_class = neg_class_df.loc[~neg_class_df.index.isin(test_df_neg_class.index)].sample(frac=0.25)\n",
    "valid_df = pd.concat([valid_df_pos_class, valid_df_neg_class], ignore_index=True)"
   ]
  },
  {
   "cell_type": "code",
   "execution_count": 26,
   "metadata": {},
   "outputs": [],
   "source": [
    "\"\"\"\n",
    "getting all records for both positive and\n",
    "negative classes which are not a part of \n",
    "either the test set or valid set. combining\n",
    "the resultant positive, negative class records\n",
    "to obtain the training set.\n",
    "\"\"\"\n",
    "not_train_df_pos_class = pd.concat([test_df_pos_class, valid_df_pos_class])\n",
    "train_df_pos_class = pos_class_df.loc[~pos_class_df.index.isin(not_train_df_pos_class.index)]\n",
    "\n",
    "not_train_df_neg_class = pd.concat([test_df_neg_class, valid_df_neg_class])\n",
    "train_df_neg_class = neg_class_df.loc[~neg_class_df.index.isin(not_train_df_neg_class.index)]\n",
    "\n",
    "train_df = pd.concat([train_df_pos_class, train_df_neg_class], ignore_index=True)"
   ]
  },
  {
   "cell_type": "code",
   "execution_count": 27,
   "metadata": {},
   "outputs": [
    {
     "data": {
      "text/plain": [
       "(1200, 21)"
      ]
     },
     "execution_count": 27,
     "metadata": {},
     "output_type": "execute_result"
    }
   ],
   "source": [
    "train_df.loc[train_df[20] == 1].shape"
   ]
  },
  {
   "cell_type": "code",
   "execution_count": 28,
   "metadata": {},
   "outputs": [
    {
     "data": {
      "text/plain": [
       "(1200, 21)"
      ]
     },
     "execution_count": 28,
     "metadata": {},
     "output_type": "execute_result"
    }
   ],
   "source": [
    "train_df.loc[train_df[20] == 0].shape"
   ]
  },
  {
   "cell_type": "code",
   "execution_count": null,
   "metadata": {},
   "outputs": [],
   "source": []
  }
 ],
 "metadata": {
  "kernelspec": {
   "display_name": "myenv",
   "language": "python",
   "name": "myenv"
  },
  "language_info": {
   "codemirror_mode": {
    "name": "ipython",
    "version": 3
   },
   "file_extension": ".py",
   "mimetype": "text/x-python",
   "name": "python",
   "nbconvert_exporter": "python",
   "pygments_lexer": "ipython3",
   "version": "3.5.2"
  }
 },
 "nbformat": 4,
 "nbformat_minor": 2
}
